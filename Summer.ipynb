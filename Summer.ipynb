{
  "nbformat": 4,
  "nbformat_minor": 0,
  "metadata": {
    "colab": {
      "name": "Summer.ipynb",
      "provenance": [],
      "collapsed_sections": []
    },
    "kernelspec": {
      "name": "python3",
      "display_name": "Python 3"
    },
    "language_info": {
      "name": "python"
    }
  },
  "cells": [
    {
      "cell_type": "markdown",
      "metadata": {
        "id": "r-Bq5JOl7mNx"
      },
      "source": [
        "# Summer Olympics Data Analysis Assignment\n"
      ]
    },
    {
      "cell_type": "code",
      "metadata": {
        "id": "w7lAO72A-Zi7"
      },
      "source": [
        "import pandas as pd\n",
        "import numpy as nm"
      ],
      "execution_count": 6,
      "outputs": []
    },
    {
      "cell_type": "code",
      "metadata": {
        "id": "Y3SXJVCI-kHB"
      },
      "source": [
        "df = pd.read_csv(\"summer.csv\")"
      ],
      "execution_count": 7,
      "outputs": []
    },
    {
      "cell_type": "code",
      "metadata": {
        "colab": {
          "base_uri": "https://localhost:8080/",
          "height": 419
        },
        "id": "WTEQ4X60-rPn",
        "outputId": "43a9c0d9-6c30-4ebd-cbd0-d62656847924"
      },
      "source": [
        "df"
      ],
      "execution_count": 8,
      "outputs": [
        {
          "output_type": "execute_result",
          "data": {
            "text/html": [
              "<div>\n",
              "<style scoped>\n",
              "    .dataframe tbody tr th:only-of-type {\n",
              "        vertical-align: middle;\n",
              "    }\n",
              "\n",
              "    .dataframe tbody tr th {\n",
              "        vertical-align: top;\n",
              "    }\n",
              "\n",
              "    .dataframe thead th {\n",
              "        text-align: right;\n",
              "    }\n",
              "</style>\n",
              "<table border=\"1\" class=\"dataframe\">\n",
              "  <thead>\n",
              "    <tr style=\"text-align: right;\">\n",
              "      <th></th>\n",
              "      <th>Year</th>\n",
              "      <th>City</th>\n",
              "      <th>Sport</th>\n",
              "      <th>Discipline</th>\n",
              "      <th>Athlete</th>\n",
              "      <th>Country</th>\n",
              "      <th>Gender</th>\n",
              "      <th>Event</th>\n",
              "      <th>Medal</th>\n",
              "    </tr>\n",
              "  </thead>\n",
              "  <tbody>\n",
              "    <tr>\n",
              "      <th>0</th>\n",
              "      <td>1896</td>\n",
              "      <td>Athens</td>\n",
              "      <td>Aquatics</td>\n",
              "      <td>Swimming</td>\n",
              "      <td>HAJOS, Alfred</td>\n",
              "      <td>HUN</td>\n",
              "      <td>Men</td>\n",
              "      <td>100M Freestyle</td>\n",
              "      <td>Gold</td>\n",
              "    </tr>\n",
              "    <tr>\n",
              "      <th>1</th>\n",
              "      <td>1896</td>\n",
              "      <td>Athens</td>\n",
              "      <td>Aquatics</td>\n",
              "      <td>Swimming</td>\n",
              "      <td>HERSCHMANN, Otto</td>\n",
              "      <td>AUT</td>\n",
              "      <td>Men</td>\n",
              "      <td>100M Freestyle</td>\n",
              "      <td>Silver</td>\n",
              "    </tr>\n",
              "    <tr>\n",
              "      <th>2</th>\n",
              "      <td>1896</td>\n",
              "      <td>Athens</td>\n",
              "      <td>Aquatics</td>\n",
              "      <td>Swimming</td>\n",
              "      <td>DRIVAS, Dimitrios</td>\n",
              "      <td>GRE</td>\n",
              "      <td>Men</td>\n",
              "      <td>100M Freestyle For Sailors</td>\n",
              "      <td>Bronze</td>\n",
              "    </tr>\n",
              "    <tr>\n",
              "      <th>3</th>\n",
              "      <td>1896</td>\n",
              "      <td>Athens</td>\n",
              "      <td>Aquatics</td>\n",
              "      <td>Swimming</td>\n",
              "      <td>MALOKINIS, Ioannis</td>\n",
              "      <td>GRE</td>\n",
              "      <td>Men</td>\n",
              "      <td>100M Freestyle For Sailors</td>\n",
              "      <td>Gold</td>\n",
              "    </tr>\n",
              "    <tr>\n",
              "      <th>4</th>\n",
              "      <td>1896</td>\n",
              "      <td>Athens</td>\n",
              "      <td>Aquatics</td>\n",
              "      <td>Swimming</td>\n",
              "      <td>CHASAPIS, Spiridon</td>\n",
              "      <td>GRE</td>\n",
              "      <td>Men</td>\n",
              "      <td>100M Freestyle For Sailors</td>\n",
              "      <td>Silver</td>\n",
              "    </tr>\n",
              "    <tr>\n",
              "      <th>...</th>\n",
              "      <td>...</td>\n",
              "      <td>...</td>\n",
              "      <td>...</td>\n",
              "      <td>...</td>\n",
              "      <td>...</td>\n",
              "      <td>...</td>\n",
              "      <td>...</td>\n",
              "      <td>...</td>\n",
              "      <td>...</td>\n",
              "    </tr>\n",
              "    <tr>\n",
              "      <th>31160</th>\n",
              "      <td>2012</td>\n",
              "      <td>London</td>\n",
              "      <td>Wrestling</td>\n",
              "      <td>Wrestling Freestyle</td>\n",
              "      <td>JANIKOWSKI, Damian</td>\n",
              "      <td>POL</td>\n",
              "      <td>Men</td>\n",
              "      <td>Wg 84 KG</td>\n",
              "      <td>Bronze</td>\n",
              "    </tr>\n",
              "    <tr>\n",
              "      <th>31161</th>\n",
              "      <td>2012</td>\n",
              "      <td>London</td>\n",
              "      <td>Wrestling</td>\n",
              "      <td>Wrestling Freestyle</td>\n",
              "      <td>REZAEI, Ghasem Gholamreza</td>\n",
              "      <td>IRI</td>\n",
              "      <td>Men</td>\n",
              "      <td>Wg 96 KG</td>\n",
              "      <td>Gold</td>\n",
              "    </tr>\n",
              "    <tr>\n",
              "      <th>31162</th>\n",
              "      <td>2012</td>\n",
              "      <td>London</td>\n",
              "      <td>Wrestling</td>\n",
              "      <td>Wrestling Freestyle</td>\n",
              "      <td>TOTROV, Rustam</td>\n",
              "      <td>RUS</td>\n",
              "      <td>Men</td>\n",
              "      <td>Wg 96 KG</td>\n",
              "      <td>Silver</td>\n",
              "    </tr>\n",
              "    <tr>\n",
              "      <th>31163</th>\n",
              "      <td>2012</td>\n",
              "      <td>London</td>\n",
              "      <td>Wrestling</td>\n",
              "      <td>Wrestling Freestyle</td>\n",
              "      <td>ALEKSANYAN, Artur</td>\n",
              "      <td>ARM</td>\n",
              "      <td>Men</td>\n",
              "      <td>Wg 96 KG</td>\n",
              "      <td>Bronze</td>\n",
              "    </tr>\n",
              "    <tr>\n",
              "      <th>31164</th>\n",
              "      <td>2012</td>\n",
              "      <td>London</td>\n",
              "      <td>Wrestling</td>\n",
              "      <td>Wrestling Freestyle</td>\n",
              "      <td>LIDBERG, Jimmy</td>\n",
              "      <td>SWE</td>\n",
              "      <td>Men</td>\n",
              "      <td>Wg 96 KG</td>\n",
              "      <td>Bronze</td>\n",
              "    </tr>\n",
              "  </tbody>\n",
              "</table>\n",
              "<p>31165 rows × 9 columns</p>\n",
              "</div>"
            ],
            "text/plain": [
              "       Year    City      Sport  ... Gender                       Event   Medal\n",
              "0      1896  Athens   Aquatics  ...    Men              100M Freestyle    Gold\n",
              "1      1896  Athens   Aquatics  ...    Men              100M Freestyle  Silver\n",
              "2      1896  Athens   Aquatics  ...    Men  100M Freestyle For Sailors  Bronze\n",
              "3      1896  Athens   Aquatics  ...    Men  100M Freestyle For Sailors    Gold\n",
              "4      1896  Athens   Aquatics  ...    Men  100M Freestyle For Sailors  Silver\n",
              "...     ...     ...        ...  ...    ...                         ...     ...\n",
              "31160  2012  London  Wrestling  ...    Men                    Wg 84 KG  Bronze\n",
              "31161  2012  London  Wrestling  ...    Men                    Wg 96 KG    Gold\n",
              "31162  2012  London  Wrestling  ...    Men                    Wg 96 KG  Silver\n",
              "31163  2012  London  Wrestling  ...    Men                    Wg 96 KG  Bronze\n",
              "31164  2012  London  Wrestling  ...    Men                    Wg 96 KG  Bronze\n",
              "\n",
              "[31165 rows x 9 columns]"
            ]
          },
          "metadata": {},
          "execution_count": 8
        }
      ]
    },
    {
      "cell_type": "markdown",
      "metadata": {
        "id": "PZhEgbFZ8rRs"
      },
      "source": [
        "1. In how many cities Summer Olympics is held so far?\n"
      ]
    },
    {
      "cell_type": "code",
      "metadata": {
        "colab": {
          "base_uri": "https://localhost:8080/"
        },
        "id": "qpw-GURs8_DV",
        "outputId": "de1b895a-de71-4986-82d7-b7f0c0c53e3b"
      },
      "source": [
        "print(\"***************************************\")\n",
        "print(\"List of Cities Olympics held so far\",df[\"City\"].unique())\n",
        "print(\"***************************************\")"
      ],
      "execution_count": 9,
      "outputs": [
        {
          "output_type": "stream",
          "name": "stdout",
          "text": [
            "***************************************\n",
            "List of Cities Olympics held so far ['Athens' 'Paris' 'St Louis' 'London' 'Stockholm' 'Antwerp' 'Amsterdam'\n",
            " 'Los Angeles' 'Berlin' 'Helsinki' 'Melbourne / Stockholm' 'Rome' 'Tokyo'\n",
            " 'Mexico' 'Munich' 'Montreal' 'Moscow' 'Seoul' 'Barcelona' 'Atlanta'\n",
            " 'Sydney' 'Beijing']\n",
            "***************************************\n"
          ]
        }
      ]
    },
    {
      "cell_type": "code",
      "metadata": {
        "colab": {
          "base_uri": "https://localhost:8080/"
        },
        "id": "8FM_5oWM_mXF",
        "outputId": "84238804-6e95-4bad-cee9-857cb23ff498"
      },
      "source": [
        "\n",
        "print(\"***************************************\")\n",
        "print(\"Count of all the cities Summer Olympics held so far\",len(df[\"City\"].unique()))\n",
        "print(\"***************************************\")\n"
      ],
      "execution_count": 10,
      "outputs": [
        {
          "output_type": "stream",
          "name": "stdout",
          "text": [
            "***************************************\n",
            "Count of all the cities Summer Olympics held so far 22\n",
            "***************************************\n"
          ]
        }
      ]
    },
    {
      "cell_type": "markdown",
      "metadata": {
        "id": "4pF5qSXx8_8v"
      },
      "source": [
        "2. Which sport is having most number of Gold Medals so far? (Top 5)"
      ]
    },
    {
      "cell_type": "code",
      "metadata": {
        "colab": {
          "base_uri": "https://localhost:8080/",
          "height": 430
        },
        "id": "JvsVBToo9Exb",
        "outputId": "f3050914-e5cb-42c2-9458-02b32218e80a"
      },
      "source": [
        "all_gold = df[df[\"Medal\"]==\"Gold\"]\n",
        "all_gold\n",
        "ans=[]\n",
        "for sport in all_gold[\"Sport\"].unique():\n",
        "  ans.append([sport,len(all_gold[df[\"Sport\"]==sport])])\n",
        "ans\n",
        "print(\"***************************************\")\n",
        "print(\"SPORT HAVING MOST NUMBER OF GOLD MEDALS\")\n",
        "print(\"***************************************\")\n",
        "pd.DataFrame(ans,columns = [\"sport\",\"frequency\"]).sort_values(by=\"frequency\",ascending = False).head().plot(x=\"sport\",y=\"frequency\",kind=\"bar\")\n"
      ],
      "execution_count": 11,
      "outputs": [
        {
          "output_type": "stream",
          "name": "stdout",
          "text": [
            "***************************************\n",
            "SPORT HAVING MOST NUMBER OF GOLD MEDALS\n",
            "***************************************\n"
          ]
        },
        {
          "output_type": "stream",
          "name": "stderr",
          "text": [
            "/usr/local/lib/python3.7/dist-packages/ipykernel_launcher.py:5: UserWarning: Boolean Series key will be reindexed to match DataFrame index.\n",
            "  \"\"\"\n"
          ]
        },
        {
          "output_type": "execute_result",
          "data": {
            "text/plain": [
              "<matplotlib.axes._subplots.AxesSubplot at 0x7fa91219bf50>"
            ]
          },
          "metadata": {},
          "execution_count": 11
        },
        {
          "output_type": "display_data",
          "data": {
            "image/png": "[encoded data removed]",
            "text/plain": [
              "<Figure size 432x288 with 1 Axes>"
            ]
          },
          "metadata": {
            "needs_background": "light"
          }
        }
      ]
    },
    {
      "cell_type": "markdown",
      "metadata": {
        "id": "8DDtFHEo9F-9"
      },
      "source": [
        "3. Which sport is having most number of medals so far? (Top 5)"
      ]
    },
    {
      "cell_type": "code",
      "metadata": {
        "colab": {
          "base_uri": "https://localhost:8080/",
          "height": 396
        },
        "id": "01iO4Jsm9Ic8",
        "outputId": "36bd02f2-8320-41bf-b341-ce14c2befb39"
      },
      "source": [
        "ans3 = []\n",
        "for sport in df[\"Sport\"].unique():\n",
        "  ans3.append([sport,len(df[df[\"Sport\"]==sport])])\n",
        "ans3\n",
        "print(\"***************************************\")\n",
        "print(\"SPORTS HAVING MOST NUMBER OF MEDALS\")\n",
        "print(\"***************************************\")\n",
        "pd.DataFrame(ans3,columns = [\"sport\",\"freq\"]).sort_values(by=\"freq\",ascending = False).head().plot(x=\"sport\",y=\"freq\",kind = \"bar\")"
      ],
      "execution_count": 12,
      "outputs": [
        {
          "output_type": "stream",
          "name": "stdout",
          "text": [
            "***************************************\n",
            "SPORTS HAVING MOST NUMBER OF MEDALS\n",
            "***************************************\n"
          ]
        },
        {
          "output_type": "execute_result",
          "data": {
            "text/plain": [
              "<matplotlib.axes._subplots.AxesSubplot at 0x7fa90bab1310>"
            ]
          },
          "metadata": {},
          "execution_count": 12
        },
        {
          "output_type": "display_data",
          "data": {
            "image/png": "[encoded data removed]",
            "text/plain": [
              "<Figure size 432x288 with 1 Axes>"
            ]
          },
          "metadata": {
            "needs_background": "light"
          }
        }
      ]
    },
    {
      "cell_type": "markdown",
      "metadata": {
        "id": "Zb6QJUmE9JLF"
      },
      "source": [
        "4. Which player has won most number of medals? (Top 5)\n"
      ]
    },
    {
      "cell_type": "code",
      "metadata": {
        "colab": {
          "base_uri": "https://localhost:8080/",
          "height": 438
        },
        "id": "TjnsvwBq9Lu1",
        "outputId": "55272fd5-5e33-4adb-d556-fdb4f223e3d9"
      },
      "source": [
        "ans4 = []\n",
        "for player in df[\"Athlete\"].unique():\n",
        "  ans4.append([player,len(df[df[\"Athlete\"]==player])])\n",
        "\n",
        "print(\"***************************************\")\n",
        "print(\"PLAYERS THAT WON MOST NUMBER OF MEDALS ARE\")\n",
        "pd.DataFrame(ans4,columns = [\"Player\",\"Medals\"]).sort_values(by = \"Medals\" , ascending = False).head().plot(x = \"Player\",y = \"Medals\" , kind = \"bar\")\n",
        "print(\"***************************************\")"
      ],
      "execution_count": 13,
      "outputs": [
        {
          "output_type": "stream",
          "name": "stdout",
          "text": [
            "***************************************\n",
            "PLAYERS THAT WON MOST NUMBER OF MEDALS ARE\n",
            "***************************************\n"
          ]
        },
        {
          "output_type": "display_data",
          "data": {
            "image/png": "[encoded data removed]",
            "text/plain": [
              "<Figure size 432x288 with 1 Axes>"
            ]
          },
          "metadata": {
            "needs_background": "light"
          }
        }
      ]
    },
    {
      "cell_type": "markdown",
      "metadata": {
        "id": "dhZu-Blx9Mz1"
      },
      "source": [
        "5. Which player has won most number Gold Medals of medals? (Top 5)"
      ]
    },
    {
      "cell_type": "code",
      "metadata": {
        "colab": {
          "base_uri": "https://localhost:8080/"
        },
        "id": "BgL2io9F9PsZ",
        "outputId": "a81c9882-f696-4231-ba56-1edbb351d305"
      },
      "source": [
        "all_gold\n",
        "\n",
        "ans5=[]\n",
        "\n",
        "for player in all_gold['Athlete'].unique():\n",
        "  ans5.append([player,len(all_gold[all_gold['Athlete']==player])])\n",
        "ans5\n",
        "print(\"NAME OF PLAYER WHO WON MOST GOLDS\")\n",
        "print(\"***************************************\")\n",
        "max_gold_player = pd.DataFrame(ans5,columns = [\"player\",\"gold_medals\"]).sort_values(by = \"gold_medals\",ascending = False)[\"player\"].head(1)\n",
        "print(max_gold_player)\n",
        "print(\"***************************************\")\n"
      ],
      "execution_count": 36,
      "outputs": [
        {
          "output_type": "stream",
          "name": "stdout",
          "text": [
            "NAME OF PLAYER WHO WON MOST GOLDS\n",
            "***************************************\n",
            "6851    PHELPS, Michael\n",
            "Name: player, dtype: object\n",
            "***************************************\n"
          ]
        }
      ]
    },
    {
      "cell_type": "code",
      "metadata": {
        "colab": {
          "base_uri": "https://localhost:8080/",
          "height": 731
        },
        "id": "1db6tltX4ueZ",
        "outputId": "e285beff-8301-4e43-c7e5-055ace23b9a1"
      },
      "source": [
        "print(\"***************************************\")\n",
        "print(\"MOST GOLD WON PLAYER'S MEDAL'S COUNT\")\n",
        "print(\"***************************************\")\n",
        "max_gold_player_data = pd.DataFrame(ans5,columns = [\"player\",\"gold_medals\"]).sort_values(by = \"gold_medals\",ascending = False).head().plot(x=\"player\",y=\"gold_medals\",kind = \"bar\",figsize=(15,10))\n",
        "\n"
      ],
      "execution_count": 75,
      "outputs": [
        {
          "output_type": "stream",
          "name": "stdout",
          "text": [
            "***************************************\n",
            "MOST GOLD WON PLAYER'S MEDAL'S COUNT\n",
            "***************************************\n"
          ]
        },
        {
          "output_type": "display_data",
          "data": {
            "image/png": "[encoded data removed]",
            "text/plain": [
              "<Figure size 1080x720 with 1 Axes>"
            ]
          },
          "metadata": {
            "needs_background": "light"
          }
        }
      ]
    },
    {
      "cell_type": "code",
      "metadata": {
        "id": "rmAUA_kjDi-S"
      },
      "source": [
        ""
      ],
      "execution_count": null,
      "outputs": []
    },
    {
      "cell_type": "code",
      "metadata": {
        "id": "rpIs51jQDjqy"
      },
      "source": [
        ""
      ],
      "execution_count": null,
      "outputs": []
    },
    {
      "cell_type": "code",
      "metadata": {
        "id": "uq6lztfCDj0f"
      },
      "source": [
        ""
      ],
      "execution_count": null,
      "outputs": []
    },
    {
      "cell_type": "markdown",
      "metadata": {
        "id": "xLE46h539QG9"
      },
      "source": [
        "6. In which year India won first Gold Medal in Summer Olympics?"
      ]
    },
    {
      "cell_type": "code",
      "metadata": {
        "colab": {
          "base_uri": "https://localhost:8080/"
        },
        "id": "CQxLSfmV9ctM",
        "outputId": "4bc24bc5-a5c4-4f22-87d5-8f2c94a87a47"
      },
      "source": [
        "india_won = df[df['Country']==\"IND\"]\n",
        "min(india_won[\"Year\"])"
      ],
      "execution_count": 35,
      "outputs": [
        {
          "output_type": "execute_result",
          "data": {
            "text/plain": [
              "1900"
            ]
          },
          "metadata": {},
          "execution_count": 35
        }
      ]
    },
    {
      "cell_type": "code",
      "metadata": {
        "id": "H1lryWOHDlGA"
      },
      "source": [
        ""
      ],
      "execution_count": null,
      "outputs": []
    },
    {
      "cell_type": "code",
      "metadata": {
        "id": "ms8wr73uDlP3"
      },
      "source": [
        ""
      ],
      "execution_count": null,
      "outputs": []
    },
    {
      "cell_type": "code",
      "metadata": {
        "id": "KXCJC1oTDlU-"
      },
      "source": [
        ""
      ],
      "execution_count": null,
      "outputs": []
    },
    {
      "cell_type": "markdown",
      "metadata": {
        "id": "EW9tnhTu9dDQ"
      },
      "source": [
        "7. Which event is most popular in terms on number of players? (Top 5)"
      ]
    },
    {
      "cell_type": "code",
      "metadata": {
        "colab": {
          "base_uri": "https://localhost:8080/",
          "height": 427
        },
        "id": "9_LG_8KO9eZ1",
        "outputId": "59fa5be1-4b05-4b85-ded0-d78905c08076"
      },
      "source": [
        "ans7 = []\n",
        "#using list\n",
        "''' \n",
        "for event in df[\"Event\"].unique():\n",
        "  ans7.append([event,len(df[df[\"Event\"]==event])])\n",
        "ans7 = sorted(ans7,key=lambda x: x[1])\n",
        "ans7[len(ans7)-1]\n",
        "'''\n",
        "\n",
        "#using df\n",
        "\n",
        "for event in df[\"Event\"].unique():\n",
        "  ans7.append([event,len(df[df[\"Event\"]==event])])\n",
        "\n",
        "print(\"***************************************\")\n",
        "print(\"MOST POPULAR EVENT AMONGST PLAYERS\")\n",
        "print(\"***************************************\")\n",
        "pd.DataFrame(ans7,columns = [\"event\",\"likability\"]).sort_values(by=\"likability\" , ascending = False).head().plot(x=\"event\",y = \"likability\",kind = \"bar\")\n",
        "\n",
        "\n"
      ],
      "execution_count": 71,
      "outputs": [
        {
          "output_type": "stream",
          "name": "stdout",
          "text": [
            "***************************************\n",
            "MOST POPULAR EVENT AMONGST PLAYERS\n",
            "***************************************\n"
          ]
        },
        {
          "output_type": "execute_result",
          "data": {
            "text/plain": [
              "<matplotlib.axes._subplots.AxesSubplot at 0x7fa90aee9a50>"
            ]
          },
          "metadata": {},
          "execution_count": 71
        },
        {
          "output_type": "display_data",
          "data": {
            "image/png": "[encoded data removed]",
            "text/plain": [
              "<Figure size 432x288 with 1 Axes>"
            ]
          },
          "metadata": {
            "needs_background": "light"
          }
        }
      ]
    },
    {
      "cell_type": "markdown",
      "metadata": {
        "id": "_MoYVetW9fWY"
      },
      "source": [
        "8. Which sport is having most female Gold Medalists? (Top 5)"
      ]
    },
    {
      "cell_type": "code",
      "metadata": {
        "colab": {
          "base_uri": "https://localhost:8080/",
          "height": 396
        },
        "id": "RVaMBpTV-f13",
        "outputId": "5bb5d8f0-7853-4e7c-b115-a50c4ffa3898"
      },
      "source": [
        "all_gold\n",
        "ans8=[]\n",
        "\n",
        "all_female_gold = all_gold[all_gold[\"Gender\"]==\"Women\"]\n",
        "all_female_gold\n",
        "\n",
        "for sport in all_female_gold[\"Sport\"].unique():\n",
        "  ans8.append([sport,len(all_female_gold[all_female_gold[\"Sport\"]==sport])])\n",
        "\n",
        "print(\"***************************************\")\n",
        "print(\"SPORT HAVING MOST FEMALE GOLD MEADLIST\")\n",
        "print(\"***************************************\")\n",
        "pd.DataFrame(ans8,columns = [\"Sport\",\"Count\"]).sort_values(by = \"Count\",ascending = False).head().plot(x=\"Sport\",y=\"Count\",kind=\"bar\")"
      ],
      "execution_count": 76,
      "outputs": [
        {
          "output_type": "stream",
          "name": "stdout",
          "text": [
            "***************************************\n",
            "SPORT HAVING MOST FEMALE GOLD MEADLIST\n",
            "***************************************\n"
          ]
        },
        {
          "output_type": "execute_result",
          "data": {
            "text/plain": [
              "<matplotlib.axes._subplots.AxesSubplot at 0x7fa90ad3da50>"
            ]
          },
          "metadata": {},
          "execution_count": 76
        },
        {
          "output_type": "display_data",
          "data": {
            "image/png": "[encoded data removed]",
            "text/plain": [
              "<Figure size 432x288 with 1 Axes>"
            ]
          },
          "metadata": {
            "needs_background": "light"
          }
        }
      ]
    },
    {
      "cell_type": "code",
      "metadata": {
        "id": "e62vX4FV9iR-"
      },
      "source": [
        ""
      ],
      "execution_count": null,
      "outputs": []
    }
  ]
}