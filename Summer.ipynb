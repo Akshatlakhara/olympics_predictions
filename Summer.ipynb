{
 "cells": [
  {
   "cell_type": "markdown",
   "metadata": {
    "id": "r-Bq5JOl7mNx"
   },
   "source": [
    "# Summer Olympics Data Analysis Assignment\n"
   ]
  },
  {
   "cell_type": "code",
   "execution_count": 3,
   "metadata": {
    "id": "w7lAO72A-Zi7"
   },
   "outputs": [],
   "source": [
    "import pandas as pd\n",
    "import numpy as nm"
   ]
  },
  {
   "cell_type": "code",
   "execution_count": 4,
   "metadata": {
    "id": "Y3SXJVCI-kHB"
   },
   "outputs": [],
   "source": [
    "df = pd.read_csv(\"summer.csv\")"
   ]
  },
  {
   "cell_type": "code",
   "execution_count": 5,
   "metadata": {
    "colab": {
     "base_uri": "https://localhost:8080/",
     "height": 419
    },
    "id": "WTEQ4X60-rPn",
    "outputId": "43a9c0d9-6c30-4ebd-cbd0-d62656847924"
   },
   "outputs": [
    {
     "data": {
      "text/html": [
       "<div>\n",
       "<style scoped>\n",
       "    .dataframe tbody tr th:only-of-type {\n",
       "        vertical-align: middle;\n",
       "    }\n",
       "\n",
       "    .dataframe tbody tr th {\n",
       "        vertical-align: top;\n",
       "    }\n",
       "\n",
       "    .dataframe thead th {\n",
       "        text-align: right;\n",
       "    }\n",
       "</style>\n",
       "<table border=\"1\" class=\"dataframe\">\n",
       "  <thead>\n",
       "    <tr style=\"text-align: right;\">\n",
       "      <th></th>\n",
       "      <th>Year</th>\n",
       "      <th>City</th>\n",
       "      <th>Sport</th>\n",
       "      <th>Discipline</th>\n",
       "      <th>Athlete</th>\n",
       "      <th>Country</th>\n",
       "      <th>Gender</th>\n",
       "      <th>Event</th>\n",
       "      <th>Medal</th>\n",
       "    </tr>\n",
       "  </thead>\n",
       "  <tbody>\n",
       "    <tr>\n",
       "      <th>0</th>\n",
       "      <td>1896</td>\n",
       "      <td>Athens</td>\n",
       "      <td>Aquatics</td>\n",
       "      <td>Swimming</td>\n",
       "      <td>HAJOS, Alfred</td>\n",
       "      <td>HUN</td>\n",
       "      <td>Men</td>\n",
       "      <td>100M Freestyle</td>\n",
       "      <td>Gold</td>\n",
       "    </tr>\n",
       "    <tr>\n",
       "      <th>1</th>\n",
       "      <td>1896</td>\n",
       "      <td>Athens</td>\n",
       "      <td>Aquatics</td>\n",
       "      <td>Swimming</td>\n",
       "      <td>HERSCHMANN, Otto</td>\n",
       "      <td>AUT</td>\n",
       "      <td>Men</td>\n",
       "      <td>100M Freestyle</td>\n",
       "      <td>Silver</td>\n",
       "    </tr>\n",
       "    <tr>\n",
       "      <th>2</th>\n",
       "      <td>1896</td>\n",
       "      <td>Athens</td>\n",
       "      <td>Aquatics</td>\n",
       "      <td>Swimming</td>\n",
       "      <td>DRIVAS, Dimitrios</td>\n",
       "      <td>GRE</td>\n",
       "      <td>Men</td>\n",
       "      <td>100M Freestyle For Sailors</td>\n",
       "      <td>Bronze</td>\n",
       "    </tr>\n",
       "    <tr>\n",
       "      <th>3</th>\n",
       "      <td>1896</td>\n",
       "      <td>Athens</td>\n",
       "      <td>Aquatics</td>\n",
       "      <td>Swimming</td>\n",
       "      <td>MALOKINIS, Ioannis</td>\n",
       "      <td>GRE</td>\n",
       "      <td>Men</td>\n",
       "      <td>100M Freestyle For Sailors</td>\n",
       "      <td>Gold</td>\n",
       "    </tr>\n",
       "    <tr>\n",
       "      <th>4</th>\n",
       "      <td>1896</td>\n",
       "      <td>Athens</td>\n",
       "      <td>Aquatics</td>\n",
       "      <td>Swimming</td>\n",
       "      <td>CHASAPIS, Spiridon</td>\n",
       "      <td>GRE</td>\n",
       "      <td>Men</td>\n",
       "      <td>100M Freestyle For Sailors</td>\n",
       "      <td>Silver</td>\n",
       "    </tr>\n",
       "    <tr>\n",
       "      <th>...</th>\n",
       "      <td>...</td>\n",
       "      <td>...</td>\n",
       "      <td>...</td>\n",
       "      <td>...</td>\n",
       "      <td>...</td>\n",
       "      <td>...</td>\n",
       "      <td>...</td>\n",
       "      <td>...</td>\n",
       "      <td>...</td>\n",
       "    </tr>\n",
       "    <tr>\n",
       "      <th>31160</th>\n",
       "      <td>2012</td>\n",
       "      <td>London</td>\n",
       "      <td>Wrestling</td>\n",
       "      <td>Wrestling Freestyle</td>\n",
       "      <td>JANIKOWSKI, Damian</td>\n",
       "      <td>POL</td>\n",
       "      <td>Men</td>\n",
       "      <td>Wg 84 KG</td>\n",
       "      <td>Bronze</td>\n",
       "    </tr>\n",
       "    <tr>\n",
       "      <th>31161</th>\n",
       "      <td>2012</td>\n",
       "      <td>London</td>\n",
       "      <td>Wrestling</td>\n",
       "      <td>Wrestling Freestyle</td>\n",
       "      <td>REZAEI, Ghasem Gholamreza</td>\n",
       "      <td>IRI</td>\n",
       "      <td>Men</td>\n",
       "      <td>Wg 96 KG</td>\n",
       "      <td>Gold</td>\n",
       "    </tr>\n",
       "    <tr>\n",
       "      <th>31162</th>\n",
       "      <td>2012</td>\n",
       "      <td>London</td>\n",
       "      <td>Wrestling</td>\n",
       "      <td>Wrestling Freestyle</td>\n",
       "      <td>TOTROV, Rustam</td>\n",
       "      <td>RUS</td>\n",
       "      <td>Men</td>\n",
       "      <td>Wg 96 KG</td>\n",
       "      <td>Silver</td>\n",
       "    </tr>\n",
       "    <tr>\n",
       "      <th>31163</th>\n",
       "      <td>2012</td>\n",
       "      <td>London</td>\n",
       "      <td>Wrestling</td>\n",
       "      <td>Wrestling Freestyle</td>\n",
       "      <td>ALEKSANYAN, Artur</td>\n",
       "      <td>ARM</td>\n",
       "      <td>Men</td>\n",
       "      <td>Wg 96 KG</td>\n",
       "      <td>Bronze</td>\n",
       "    </tr>\n",
       "    <tr>\n",
       "      <th>31164</th>\n",
       "      <td>2012</td>\n",
       "      <td>London</td>\n",
       "      <td>Wrestling</td>\n",
       "      <td>Wrestling Freestyle</td>\n",
       "      <td>LIDBERG, Jimmy</td>\n",
       "      <td>SWE</td>\n",
       "      <td>Men</td>\n",
       "      <td>Wg 96 KG</td>\n",
       "      <td>Bronze</td>\n",
       "    </tr>\n",
       "  </tbody>\n",
       "</table>\n",
       "<p>31165 rows × 9 columns</p>\n",
       "</div>"
      ],
      "text/plain": [
       "       Year    City      Sport           Discipline  \\\n",
       "0      1896  Athens   Aquatics             Swimming   \n",
       "1      1896  Athens   Aquatics             Swimming   \n",
       "2      1896  Athens   Aquatics             Swimming   \n",
       "3      1896  Athens   Aquatics             Swimming   \n",
       "4      1896  Athens   Aquatics             Swimming   \n",
       "...     ...     ...        ...                  ...   \n",
       "31160  2012  London  Wrestling  Wrestling Freestyle   \n",
       "31161  2012  London  Wrestling  Wrestling Freestyle   \n",
       "31162  2012  London  Wrestling  Wrestling Freestyle   \n",
       "31163  2012  London  Wrestling  Wrestling Freestyle   \n",
       "31164  2012  London  Wrestling  Wrestling Freestyle   \n",
       "\n",
       "                         Athlete Country Gender                       Event  \\\n",
       "0                  HAJOS, Alfred     HUN    Men              100M Freestyle   \n",
       "1               HERSCHMANN, Otto     AUT    Men              100M Freestyle   \n",
       "2              DRIVAS, Dimitrios     GRE    Men  100M Freestyle For Sailors   \n",
       "3             MALOKINIS, Ioannis     GRE    Men  100M Freestyle For Sailors   \n",
       "4             CHASAPIS, Spiridon     GRE    Men  100M Freestyle For Sailors   \n",
       "...                          ...     ...    ...                         ...   \n",
       "31160         JANIKOWSKI, Damian     POL    Men                    Wg 84 KG   \n",
       "31161  REZAEI, Ghasem Gholamreza     IRI    Men                    Wg 96 KG   \n",
       "31162             TOTROV, Rustam     RUS    Men                    Wg 96 KG   \n",
       "31163          ALEKSANYAN, Artur     ARM    Men                    Wg 96 KG   \n",
       "31164             LIDBERG, Jimmy     SWE    Men                    Wg 96 KG   \n",
       "\n",
       "        Medal  \n",
       "0        Gold  \n",
       "1      Silver  \n",
       "2      Bronze  \n",
       "3        Gold  \n",
       "4      Silver  \n",
       "...       ...  \n",
       "31160  Bronze  \n",
       "31161    Gold  \n",
       "31162  Silver  \n",
       "31163  Bronze  \n",
       "31164  Bronze  \n",
       "\n",
       "[31165 rows x 9 columns]"
      ]
     },
     "execution_count": 5,
     "metadata": {},
     "output_type": "execute_result"
    }
   ],
   "source": [
    "df"
   ]
  },
  {
   "cell_type": "markdown",
   "metadata": {
    "id": "PZhEgbFZ8rRs"
   },
   "source": [
    "1. In how many cities Summer Olympics is held so far?\n"
   ]
  },
  {
   "cell_type": "code",
   "execution_count": 6,
   "metadata": {
    "colab": {
     "base_uri": "https://localhost:8080/"
    },
    "id": "qpw-GURs8_DV",
    "outputId": "de1b895a-de71-4986-82d7-b7f0c0c53e3b"
   },
   "outputs": [
    {
     "name": "stdout",
     "output_type": "stream",
     "text": [
      "***************************************\n",
      "List of Cities Olympics held so far ['Athens' 'Paris' 'St Louis' 'London' 'Stockholm' 'Antwerp' 'Amsterdam'\n",
      " 'Los Angeles' 'Berlin' 'Helsinki' 'Melbourne / Stockholm' 'Rome' 'Tokyo'\n",
      " 'Mexico' 'Munich' 'Montreal' 'Moscow' 'Seoul' 'Barcelona' 'Atlanta'\n",
      " 'Sydney' 'Beijing']\n",
      "***************************************\n"
     ]
    }
   ],
   "source": [
    "print(\"***************************************\")\n",
    "print(\"List of Cities Olympics held so far\",df[\"City\"].unique())\n",
    "print(\"***************************************\")"
   ]
  },
  {
   "cell_type": "code",
   "execution_count": 7,
   "metadata": {
    "colab": {
     "base_uri": "https://localhost:8080/"
    },
    "id": "8FM_5oWM_mXF",
    "outputId": "84238804-6e95-4bad-cee9-857cb23ff498"
   },
   "outputs": [
    {
     "name": "stdout",
     "output_type": "stream",
     "text": [
      "***************************************\n",
      "Count of all the cities Summer Olympics held so far 22\n",
      "***************************************\n"
     ]
    }
   ],
   "source": [
    "\n",
    "print(\"***************************************\")\n",
    "print(\"Count of all the cities Summer Olympics held so far\",len(df[\"City\"].unique()))\n",
    "print(\"***************************************\")\n"
   ]
  },
  {
   "cell_type": "markdown",
   "metadata": {
    "id": "4pF5qSXx8_8v"
   },
   "source": [
    "2. Which sport is having most number of Gold Medals so far? (Top 5)"
   ]
  },
  {
   "cell_type": "code",
   "execution_count": 8,
   "metadata": {
    "colab": {
     "base_uri": "https://localhost:8080/",
     "height": 430
    },
    "id": "JvsVBToo9Exb",
    "outputId": "f3050914-e5cb-42c2-9458-02b32218e80a"
   },
   "outputs": [
    {
     "name": "stderr",
     "output_type": "stream",
     "text": [
      "<ipython-input-8-367f4c003e4e>:5: UserWarning: Boolean Series key will be reindexed to match DataFrame index.\n",
      "  ans.append([sport,len(all_gold[df[\"Sport\"]==sport])])\n"
     ]
    },
    {
     "name": "stdout",
     "output_type": "stream",
     "text": [
      "***************************************\n",
      "SPORT HAVING MOST NUMBER OF GOLD MEDALS\n",
      "***************************************\n"
     ]
    },
    {
     "data": {
      "text/plain": [
       "<AxesSubplot:xlabel='sport'>"
      ]
     },
     "execution_count": 8,
     "metadata": {},
     "output_type": "execute_result"
    },
    {
     "data": {
      "image/png": "[encoded data removed]",
      "text/plain": [
       "<Figure size 432x288 with 1 Axes>"
      ]
     },
     "metadata": {
      "needs_background": "light"
     },
     "output_type": "display_data"
    }
   ],
   "source": [
    "all_gold = df[df[\"Medal\"]==\"Gold\"]\n",
    "all_gold\n",
    "ans=[]\n",
    "for sport in all_gold[\"Sport\"].unique():\n",
    "  ans.append([sport,len(all_gold[df[\"Sport\"]==sport])])\n",
    "ans\n",
    "print(\"***************************************\")\n",
    "print(\"SPORT HAVING MOST NUMBER OF GOLD MEDALS\")\n",
    "print(\"***************************************\")\n",
    "pd.DataFrame(ans,columns = [\"sport\",\"frequency\"]).sort_values(by=\"frequency\",ascending = False).head().plot(x=\"sport\",y=\"frequency\",kind=\"bar\")\n"
   ]
  },
  {
   "cell_type": "markdown",
   "metadata": {
    "id": "8DDtFHEo9F-9"
   },
   "source": [
    "3. Which sport is having most number of medals so far? (Top 5)"
   ]
  },
  {
   "cell_type": "code",
   "execution_count": 9,
   "metadata": {
    "colab": {
     "base_uri": "https://localhost:8080/",
     "height": 396
    },
    "id": "01iO4Jsm9Ic8",
    "outputId": "36bd02f2-8320-41bf-b341-ce14c2befb39"
   },
   "outputs": [
    {
     "name": "stdout",
     "output_type": "stream",
     "text": [
      "***************************************\n",
      "SPORTS HAVING MOST NUMBER OF MEDALS\n",
      "***************************************\n"
     ]
    },
    {
     "data": {
      "text/plain": [
       "<AxesSubplot:xlabel='sport'>"
      ]
     },
     "execution_count": 9,
     "metadata": {},
     "output_type": "execute_result"
    },
    {
     "data": {
      "image/png": "[encoded data removed]",
      "text/plain": [
       "<Figure size 432x288 with 1 Axes>"
      ]
     },
     "metadata": {
      "needs_background": "light"
     },
     "output_type": "display_data"
    }
   ],
   "source": [
    "ans3 = []\n",
    "for sport in df[\"Sport\"].unique():\n",
    "  ans3.append([sport,len(df[df[\"Sport\"]==sport])])\n",
    "ans3\n",
    "print(\"***************************************\")\n",
    "print(\"SPORTS HAVING MOST NUMBER OF MEDALS\")\n",
    "print(\"***************************************\")\n",
    "pd.DataFrame(ans3,columns = [\"sport\",\"freq\"]).sort_values(by=\"freq\",ascending = False).head().plot(x=\"sport\",y=\"freq\",kind = \"bar\")"
   ]
  },
  {
   "cell_type": "markdown",
   "metadata": {
    "id": "Zb6QJUmE9JLF"
   },
   "source": [
    "4. Which player has won most number of medals? (Top 5)\n"
   ]
  },
  {
   "cell_type": "code",
   "execution_count": 10,
   "metadata": {
    "colab": {
     "base_uri": "https://localhost:8080/",
     "height": 438
    },
    "id": "TjnsvwBq9Lu1",
    "outputId": "55272fd5-5e33-4adb-d556-fdb4f223e3d9"
   },
   "outputs": [
    {
     "name": "stdout",
     "output_type": "stream",
     "text": [
      "***************************************\n",
      "PLAYERS THAT WON MOST NUMBER OF MEDALS ARE\n",
      "***************************************\n"
     ]
    },
    {
     "data": {
      "image/png": "[encoded data removed]",
      "text/plain": [
       "<Figure size 432x288 with 1 Axes>"
      ]
     },
     "metadata": {
      "needs_background": "light"
     },
     "output_type": "display_data"
    }
   ],
   "source": [
    "ans4 = []\n",
    "for player in df[\"Athlete\"].unique():\n",
    "  ans4.append([player,len(df[df[\"Athlete\"]==player])])\n",
    "\n",
    "print(\"***************************************\")\n",
    "print(\"PLAYERS THAT WON MOST NUMBER OF MEDALS ARE\")\n",
    "pd.DataFrame(ans4,columns = [\"Player\",\"Medals\"]).sort_values(by = \"Medals\" , ascending = False).head().plot(x = \"Player\",y = \"Medals\" , kind = \"bar\")\n",
    "print(\"***************************************\")"
   ]
  },
  {
   "cell_type": "markdown",
   "metadata": {
    "id": "dhZu-Blx9Mz1"
   },
   "source": [
    "5. Which player has won most number Gold Medals of medals? (Top 5)"
   ]
  },
  {
   "cell_type": "code",
   "execution_count": 12,
   "metadata": {
    "colab": {
     "base_uri": "https://localhost:8080/"
    },
    "id": "BgL2io9F9PsZ",
    "outputId": "a81c9882-f696-4231-ba56-1edbb351d305"
   },
   "outputs": [
    {
     "name": "stdout",
     "output_type": "stream",
     "text": [
      "NAME OF PLAYER WHO WON MOST GOLDS\n",
      "***************************************\n",
      "6851    PHELPS, Michael\n",
      "Name: player, dtype: object\n",
      "***************************************\n"
     ]
    }
   ],
   "source": [
    "all_gold\n",
    "\n",
    "ans5=[]\n",
    "\n",
    "for player in all_gold['Athlete'].unique():\n",
    "  ans5.append([player,len(all_gold[all_gold['Athlete']==player])])\n",
    "ans5\n",
    "print(\"NAME OF PLAYER WHO WON MOST GOLDS\")\n",
    "print(\"***************************************\")\n",
    "max_gold_player = pd.DataFrame(ans5,columns = [\"player\",\"gold_medals\"]).sort_values(by = \"gold_medals\",ascending = False)[\"player\"].head(1)\n",
    "print(max_gold_player)\n",
    "print(\"***************************************\")\n"
   ]
  },
  {
   "cell_type": "code",
   "execution_count": 13,
   "metadata": {
    "colab": {
     "base_uri": "https://localhost:8080/",
     "height": 731
    },
    "id": "1db6tltX4ueZ",
    "outputId": "e285beff-8301-4e43-c7e5-055ace23b9a1"
   },
   "outputs": [
    {
     "name": "stdout",
     "output_type": "stream",
     "text": [
      "***************************************\n",
      "MOST GOLD WON PLAYER'S MEDAL'S COUNT\n",
      "***************************************\n"
     ]
    },
    {
     "data": {
      "image/png": "[encoded data removed]",
      "text/plain": [
       "<Figure size 1080x720 with 1 Axes>"
      ]
     },
     "metadata": {
      "needs_background": "light"
     },
     "output_type": "display_data"
    }
   ],
   "source": [
    "print(\"***************************************\")\n",
    "print(\"MOST GOLD WON PLAYER'S MEDAL'S COUNT\")\n",
    "print(\"***************************************\")\n",
    "max_gold_player_data = pd.DataFrame(ans5,columns = [\"player\",\"gold_medals\"]).sort_values(by = \"gold_medals\",ascending = False).head().plot(x=\"player\",y=\"gold_medals\",kind = \"bar\",figsize=(15,10))\n",
    "\n"
   ]
  },
  {
   "cell_type": "code",
   "execution_count": null,
   "metadata": {
    "id": "rmAUA_kjDi-S"
   },
   "outputs": [],
   "source": []
  },
  {
   "cell_type": "code",
   "execution_count": null,
   "metadata": {
    "id": "rpIs51jQDjqy"
   },
   "outputs": [],
   "source": []
  },
  {
   "cell_type": "code",
   "execution_count": null,
   "metadata": {
    "id": "uq6lztfCDj0f"
   },
   "outputs": [],
   "source": []
  },
  {
   "cell_type": "markdown",
   "metadata": {
    "id": "xLE46h539QG9"
   },
   "source": [
    "6. In which year India won first Gold Medal in Summer Olympics?"
   ]
  },
  {
   "cell_type": "code",
   "execution_count": 14,
   "metadata": {
    "colab": {
     "base_uri": "https://localhost:8080/"
    },
    "id": "CQxLSfmV9ctM",
    "outputId": "4bc24bc5-a5c4-4f22-87d5-8f2c94a87a47"
   },
   "outputs": [
    {
     "name": "stdout",
     "output_type": "stream",
     "text": [
      "1928\n"
     ]
    }
   ],
   "source": [
    "all_gold\n",
    "india_won = all_gold[all_gold['Country']==\"IND\"]\n",
    "print(min(india_won[\"Year\"]))"
   ]
  },
  {
   "cell_type": "code",
   "execution_count": null,
   "metadata": {
    "id": "H1lryWOHDlGA"
   },
   "outputs": [],
   "source": []
  },
  {
   "cell_type": "code",
   "execution_count": null,
   "metadata": {
    "id": "ms8wr73uDlP3"
   },
   "outputs": [],
   "source": []
  },
  {
   "cell_type": "code",
   "execution_count": null,
   "metadata": {
    "id": "KXCJC1oTDlU-"
   },
   "outputs": [],
   "source": []
  },
  {
   "cell_type": "markdown",
   "metadata": {
    "id": "EW9tnhTu9dDQ"
   },
   "source": [
    "7. Which event is most popular in terms on number of players? (Top 5)"
   ]
  },
  {
   "cell_type": "code",
   "execution_count": 71,
   "metadata": {
    "colab": {
     "base_uri": "https://localhost:8080/",
     "height": 427
    },
    "id": "9_LG_8KO9eZ1",
    "outputId": "59fa5be1-4b05-4b85-ded0-d78905c08076"
   },
   "outputs": [
    {
     "name": "stdout",
     "output_type": "stream",
     "text": [
      "***************************************\n",
      "MOST POPULAR EVENT AMONGST PLAYERS\n",
      "***************************************\n"
     ]
    },
    {
     "data": {
      "text/plain": [
       "<matplotlib.axes._subplots.AxesSubplot at 0x7fa90aee9a50>"
      ]
     },
     "execution_count": 71,
     "metadata": {},
     "output_type": "execute_result"
    },
    {
     "data": {
      "image/png": "[encoded data removed]",
      "text/plain": [
       "<Figure size 432x288 with 1 Axes>"
      ]
     },
     "metadata": {
      "needs_background": "light"
     },
     "output_type": "display_data"
    }
   ],
   "source": [
    "ans7 = []\n",
    "#using list\n",
    "''' \n",
    "for event in df[\"Event\"].unique():\n",
    "  ans7.append([event,len(df[df[\"Event\"]==event])])\n",
    "ans7 = sorted(ans7,key=lambda x: x[1])\n",
    "ans7[len(ans7)-1]\n",
    "'''\n",
    "\n",
    "#using df\n",
    "\n",
    "for event in df[\"Event\"].unique():\n",
    "  ans7.append([event,len(df[df[\"Event\"]==event])])\n",
    "\n",
    "print(\"***************************************\")\n",
    "print(\"MOST POPULAR EVENT AMONGST PLAYERS\")\n",
    "print(\"***************************************\")\n",
    "pd.DataFrame(ans7,columns = [\"event\",\"likability\"]).sort_values(by=\"likability\" , ascending = False).head().plot(x=\"event\",y = \"likability\",kind = \"bar\")\n",
    "\n",
    "\n"
   ]
  },
  {
   "cell_type": "markdown",
   "metadata": {
    "id": "_MoYVetW9fWY"
   },
   "source": [
    "8. Which sport is having most female Gold Medalists? (Top 5)"
   ]
  },
  {
   "cell_type": "code",
   "execution_count": 76,
   "metadata": {
    "colab": {
     "base_uri": "https://localhost:8080/",
     "height": 396
    },
    "id": "RVaMBpTV-f13",
    "outputId": "5bb5d8f0-7853-4e7c-b115-a50c4ffa3898"
   },
   "outputs": [
    {
     "name": "stdout",
     "output_type": "stream",
     "text": [
      "***************************************\n",
      "SPORT HAVING MOST FEMALE GOLD MEADLIST\n",
      "***************************************\n"
     ]
    },
    {
     "data": {
      "text/plain": [
       "<matplotlib.axes._subplots.AxesSubplot at 0x7fa90ad3da50>"
      ]
     },
     "execution_count": 76,
     "metadata": {},
     "output_type": "execute_result"
    },
    {
     "data": {
      "image/png": "[encoded data removed]",
      "text/plain": [
       "<Figure size 432x288 with 1 Axes>"
      ]
     },
     "metadata": {
      "needs_background": "light"
     },
     "output_type": "display_data"
    }
   ],
   "source": [
    "all_gold\n",
    "ans8=[]\n",
    "\n",
    "all_female_gold = all_gold[all_gold[\"Gender\"]==\"Women\"]\n",
    "all_female_gold\n",
    "\n",
    "for sport in all_female_gold[\"Sport\"].unique():\n",
    "  ans8.append([sport,len(all_female_gold[all_female_gold[\"Sport\"]==sport])])\n",
    "\n",
    "print(\"***************************************\")\n",
    "print(\"SPORT HAVING MOST FEMALE GOLD MEADLIST\")\n",
    "print(\"***************************************\")\n",
    "pd.DataFrame(ans8,columns = [\"Sport\",\"Count\"]).sort_values(by = \"Count\",ascending = False).head().plot(x=\"Sport\",y=\"Count\",kind=\"bar\")"
   ]
  },
  {
   "cell_type": "code",
   "execution_count": null,
   "metadata": {
    "id": "e62vX4FV9iR-"
   },
   "outputs": [],
   "source": []
  }
 ],
 "metadata": {
  "colab": {
   "collapsed_sections": [],
   "name": "Summer.ipynb",
   "provenance": []
  },
  "kernelspec": {
   "display_name": "Python 3",
   "language": "python",
   "name": "python3"
  },
  "language_info": {
   "codemirror_mode": {
    "name": "ipython",
    "version": 3
   },
   "file_extension": ".py",
   "mimetype": "text/x-python",
   "name": "python",
   "nbconvert_exporter": "python",
   "pygments_lexer": "ipython3",
   "version": "3.8.8"
  }
 },
 "nbformat": 4,
 "nbformat_minor": 1
}
